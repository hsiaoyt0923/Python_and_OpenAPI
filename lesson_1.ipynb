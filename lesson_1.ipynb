{
 "cells": [
  {
   "cell_type": "code",
   "execution_count": 2,
   "metadata": {},
   "outputs": [
    {
     "name": "stdout",
     "output_type": "stream",
     "text": [
      "Hello Python\n"
     ]
    }
   ],
   "source": [
    "print('Hello Python')\n",
    "a = 1+2\n",
    "b = 3+4"
   ]
  },
  {
   "cell_type": "code",
   "execution_count": 10,
   "metadata": {},
   "outputs": [
    {
     "name": "stdout",
     "output_type": "stream",
     "text": [
      "起始數值:5\n",
      "結束數值:10\n",
      "加總:45\n"
     ]
    }
   ],
   "source": [
    "try:\n",
    "    start = int(input('請輸入起始數值'))\n",
    "    end = int(input('請輸入結束數值'))\n",
    "except:\n",
    "    print('請輸入整數')\n",
    "else:\n",
    "    n = 0\n",
    "    for i in range(start, end+1):\n",
    "        n += i\n",
    "    print(f'起始數值:{start}')\n",
    "    print(f'結束數值:{end}')\n",
    "    print(f'加總:{n}')"
   ]
  }
 ],
 "metadata": {
  "kernelspec": {
   "display_name": "venv",
   "language": "python",
   "name": "python3"
  },
  "language_info": {
   "codemirror_mode": {
    "name": "ipython",
    "version": 3
   },
   "file_extension": ".py",
   "mimetype": "text/x-python",
   "name": "python",
   "nbconvert_exporter": "python",
   "pygments_lexer": "ipython3",
   "version": "3.10.8"
  }
 },
 "nbformat": 4,
 "nbformat_minor": 2
}
