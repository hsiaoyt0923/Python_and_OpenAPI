{
 "cells": [
  {
   "cell_type": "code",
   "execution_count": 2,
   "metadata": {},
   "outputs": [
    {
     "name": "stdout",
     "output_type": "stream",
     "text": [
      "Hello Python\n"
     ]
    }
   ],
   "source": [
    "print('Hello Python')\n",
    "a = 1+2\n",
    "b = 3+4"
   ]
  },
  {
   "cell_type": "code",
   "execution_count": 10,
   "metadata": {},
   "outputs": [
    {
     "name": "stdout",
     "output_type": "stream",
     "text": [
      "起始數值:5\n",
      "結束數值:10\n",
      "加總:45\n"
     ]
    }
   ],
   "source": [
    "try:\n",
    "    start = int(input('請輸入起始數值'))\n",
    "    end = int(input('請輸入結束數值'))\n",
    "except:\n",
    "    print('請輸入整數')\n",
    "else:\n",
    "    n = 0\n",
    "    for i in range(start, end+1):\n",
    "        n += i\n",
    "    print(f'起始數值:{start}')\n",
    "    print(f'結束數值:{end}')\n",
    "    print(f'加總:{n}')"
   ]
  },
  {
   "cell_type": "code",
   "execution_count": 8,
   "metadata": {},
   "outputs": [
    {
     "name": "stdout",
     "output_type": "stream",
     "text": [
      "加總: 2\n",
      "加總: 6\n",
      "加總: 12\n",
      "加總: 20\n",
      "加總: 30\n",
      "加總: 60\n",
      "加總: 66\n",
      "程式結束\n"
     ]
    }
   ],
   "source": [
    "total = 0\n",
    "while True:\n",
    "    try:\n",
    "        value = int(input('請輸入數值，輸入正偶數相加，輸入正奇數不相加，輸入負數結束程式'))   \n",
    "    except:\n",
    "        print('請輸入數值')\n",
    "    else:\n",
    "        if value < 0:\n",
    "            print('程式結束')\n",
    "            break\n",
    "        if value % 2 == 1:\n",
    "            continue\n",
    "        else:\n",
    "            total += value\n",
    "            print('加總:', total)\n"
   ]
  }
 ],
 "metadata": {
  "kernelspec": {
   "display_name": "venv",
   "language": "python",
   "name": "python3"
  },
  "language_info": {
   "codemirror_mode": {
    "name": "ipython",
    "version": 3
   },
   "file_extension": ".py",
   "mimetype": "text/x-python",
   "name": "python",
   "nbconvert_exporter": "python",
   "pygments_lexer": "ipython3",
   "version": "3.10.8"
  }
 },
 "nbformat": 4,
 "nbformat_minor": 2
}
