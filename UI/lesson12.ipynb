{
 "cells": [
  {
   "cell_type": "code",
   "execution_count": 12,
   "metadata": {},
   "outputs": [
    {
     "name": "stdout",
     "output_type": "stream",
     "text": [
      "下載成功\n",
      "                date        address  temperature    light\n",
      "0  2024-1-26 11:2:12  chicken_house     22.83110  43882.0\n",
      "1  2024-1-26 11:6:30  chicken_house     23.29925  47115.0\n",
      "2  2024-1-26 11:7:51  chicken_house     22.83110  45099.0\n",
      "3  2024-1-26 11:8:50  chicken_house     23.29925  32776.0\n",
      "4   2024-1-26 11:9:2  chicken_house     22.83110  30631.0\n"
     ]
    }
   ],
   "source": [
    "import requests\n",
    "import pandas as pd\n",
    "\n",
    "url = 'https://openapi-pico.onrender.com/pico_w/?count=5'\n",
    "\n",
    "r = requests.get(url)\n",
    "\n",
    "if r.status_code == 200:\n",
    "    data = r.json()\n",
    "    df = pd.DataFrame(data)\n",
    "    print(df)"
   ]
  }
 ],
 "metadata": {
  "kernelspec": {
   "display_name": "Python 3",
   "language": "python",
   "name": "python3"
  },
  "language_info": {
   "codemirror_mode": {
    "name": "ipython",
    "version": 3
   },
   "file_extension": ".py",
   "mimetype": "text/x-python",
   "name": "python",
   "nbconvert_exporter": "python",
   "pygments_lexer": "ipython3",
   "version": "3.10.8"
  }
 },
 "nbformat": 4,
 "nbformat_minor": 2
}
