{
 "cells": [
  {
   "cell_type": "code",
   "execution_count": 4,
   "metadata": {},
   "outputs": [],
   "source": [
    "import redis\n",
    "from password import REDIS_URL\n",
    "redis_conn = redis.Redis.from_url(REDIS_URL)"
   ]
  },
  {
   "cell_type": "code",
   "execution_count": 37,
   "metadata": {},
   "outputs": [],
   "source": [
    "list1 = [f'stu{i}' for i in range(1,5)]\n",
    "for item in list1:\n",
    "    redis_conn.rpush('classA:stu', item)"
   ]
  },
  {
   "cell_type": "code",
   "execution_count": 50,
   "metadata": {},
   "outputs": [],
   "source": [
    "import random\n",
    "scores = [100,98,96,94,92,90,85,80,75,70,65,60,58,56,54,52,50,40,30]\n",
    "score = random.choices(scores)\n",
    "names = ['張三', '李四', '王五', '趙六']\n",
    "\n",
    "def set_hash(id, name):\n",
    "    redis_conn.hset('classA:name', mapping={id:name})\n",
    "    score = random.choices(scores)\n",
    "    redis_conn.hset('classA:chinese', mapping={id:score[0]})\n",
    "    score = random.choices(scores)\n",
    "    redis_conn.hset('classA:english', mapping={id:score[0]})\n",
    "    score = random.choices(scores)\n",
    "    redis_conn.hset('classA:math', mapping={id:score[0]})\n",
    "\n",
    "for id, name in [('stu1','張三'),('stu2','李四'),('stu3','王五'),('stu4','趙六')]:\n",
    "    set_hash(id, name)"
   ]
  },
  {
   "cell_type": "code",
   "execution_count": 53,
   "metadata": {},
   "outputs": [
    {
     "name": "stdout",
     "output_type": "stream",
     "text": [
      "張三 85 94 40\n",
      "----------------\n",
      "李四 100 75 70\n",
      "----------------\n",
      "王五 56 98 100\n",
      "----------------\n",
      "趙六 100 98 75\n",
      "----------------\n"
     ]
    }
   ],
   "source": [
    "id_list = [item.decode() for item in redis_conn.lrange('classA:stu',0,-1)]\n",
    "for id in id_list:\n",
    "    name = redis_conn.hget('classA:name',id).decode()\n",
    "    chinese = redis_conn.hget('classA:chinese',id).decode()\n",
    "    english = redis_conn.hget('classA:english',id).decode()\n",
    "    math = redis_conn.hget('classA:math',id).decode()\n",
    "    print(name, chinese, english,math)\n",
    "    print('----------------')"
   ]
  }
 ],
 "metadata": {
  "kernelspec": {
   "display_name": ".venv",
   "language": "python",
   "name": "python3"
  },
  "language_info": {
   "codemirror_mode": {
    "name": "ipython",
    "version": 3
   },
   "file_extension": ".py",
   "mimetype": "text/x-python",
   "name": "python",
   "nbconvert_exporter": "python",
   "pygments_lexer": "ipython3",
   "version": "3.10.8"
  }
 },
 "nbformat": 4,
 "nbformat_minor": 2
}
