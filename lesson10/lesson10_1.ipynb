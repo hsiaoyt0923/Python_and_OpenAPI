{
 "cells": [
  {
   "cell_type": "code",
   "execution_count": 2,
   "metadata": {},
   "outputs": [],
   "source": [
    "import redis\n",
    "from password import REDIS_URL\n",
    "redis_conn = redis.Redis.from_url(REDIS_URL)"
   ]
  },
  {
   "cell_type": "code",
   "execution_count": 3,
   "metadata": {},
   "outputs": [
    {
     "data": {
      "text/plain": [
       "True"
      ]
     },
     "execution_count": 3,
     "metadata": {},
     "output_type": "execute_result"
    }
   ],
   "source": [
    "name = \"蕭翊廷\"\n",
    "chinese = 80\n",
    "english = 90\n",
    "math = 95\n",
    "\n",
    "# 建立key\n",
    "redis_conn.set('name',name)\n",
    "redis_conn.set('chinese',chinese)\n",
    "redis_conn.set('english',english)\n",
    "redis_conn.set('math', math)"
   ]
  },
  {
   "cell_type": "code",
   "execution_count": 4,
   "metadata": {},
   "outputs": [
    {
     "name": "stdout",
     "output_type": "stream",
     "text": [
      "蕭翊廷\n",
      "80\n",
      "90\n",
      "95\n"
     ]
    }
   ],
   "source": [
    "# 讀取key\n",
    "print(redis_conn.get('name').decode())\n",
    "print(redis_conn.get('chinese').decode())\n",
    "print(redis_conn.get('english').decode())\n",
    "print(redis_conn.get('math').decode())"
   ]
  },
  {
   "cell_type": "code",
   "execution_count": 5,
   "metadata": {},
   "outputs": [
    {
     "data": {
      "text/plain": [
       "1"
      ]
     },
     "execution_count": 5,
     "metadata": {},
     "output_type": "execute_result"
    }
   ],
   "source": [
    "# 刪除key\n",
    "redis_conn.delete('name')\n",
    "redis_conn.delete('chinese')\n",
    "redis_conn.delete('english')\n",
    "redis_conn.delete('math')"
   ]
  }
 ],
 "metadata": {
  "kernelspec": {
   "display_name": ".venv",
   "language": "python",
   "name": "python3"
  },
  "language_info": {
   "codemirror_mode": {
    "name": "ipython",
    "version": 3
   },
   "file_extension": ".py",
   "mimetype": "text/x-python",
   "name": "python",
   "nbconvert_exporter": "python",
   "pygments_lexer": "ipython3",
   "version": "3.10.8"
  }
 },
 "nbformat": 4,
 "nbformat_minor": 2
}
