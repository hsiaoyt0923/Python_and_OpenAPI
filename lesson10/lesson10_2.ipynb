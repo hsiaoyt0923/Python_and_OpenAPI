{
 "cells": [
  {
   "cell_type": "code",
   "execution_count": 1,
   "metadata": {},
   "outputs": [],
   "source": [
    "import redis\n",
    "from password import REDIS_URL\n",
    "redis_conn = redis.Redis.from_url(REDIS_URL)"
   ]
  },
  {
   "cell_type": "code",
   "execution_count": 2,
   "metadata": {},
   "outputs": [
    {
     "data": {
      "text/plain": [
       "4"
      ]
     },
     "execution_count": 2,
     "metadata": {},
     "output_type": "execute_result"
    }
   ],
   "source": [
    "# 儲存list\n",
    "name = \"蕭翊廷\"\n",
    "chinese = 80\n",
    "english = 90\n",
    "math = 95\n",
    "\n",
    "# 建立key\n",
    "redis_conn.rpush('stu:01',name)\n",
    "redis_conn.rpush('stu:01',chinese)\n",
    "redis_conn.rpush('stu:01',english)\n",
    "redis_conn.rpush('stu:01',math)"
   ]
  },
  {
   "cell_type": "code",
   "execution_count": 6,
   "metadata": {},
   "outputs": [
    {
     "data": {
      "text/plain": [
       "4"
      ]
     },
     "execution_count": 6,
     "metadata": {},
     "output_type": "execute_result"
    }
   ],
   "source": [
    "# 儲存list\n",
    "name = \"張麻子\"\n",
    "chinese = 85\n",
    "english = 80\n",
    "math = 75\n",
    "\n",
    "# 建立key\n",
    "redis_conn.rpush('stu:02',name)\n",
    "redis_conn.rpush('stu:02',chinese)\n",
    "redis_conn.rpush('stu:02',english)\n",
    "redis_conn.rpush('stu:02',math)"
   ]
  },
  {
   "cell_type": "code",
   "execution_count": 7,
   "metadata": {},
   "outputs": [
    {
     "data": {
      "text/plain": [
       "4"
      ]
     },
     "execution_count": 7,
     "metadata": {},
     "output_type": "execute_result"
    }
   ],
   "source": [
    "# 儲存list\n",
    "name = \"王五\"\n",
    "chinese = 90\n",
    "english = 88\n",
    "math = 86\n",
    "\n",
    "# 建立key\n",
    "redis_conn.rpush('stu:03', name, chinese, english, math)"
   ]
  },
  {
   "cell_type": "code",
   "execution_count": 14,
   "metadata": {},
   "outputs": [
    {
     "name": "stdout",
     "output_type": "stream",
     "text": [
      "蕭翊廷\n",
      "80\n",
      "90\n",
      "95\n"
     ]
    }
   ],
   "source": [
    "# 取出list的值\n",
    "list1 = redis_conn.lrange('stu:01', 0, -1)\n",
    "for item in list1:\n",
    "    print(item.decode())"
   ]
  },
  {
   "cell_type": "code",
   "execution_count": 15,
   "metadata": {},
   "outputs": [
    {
     "data": {
      "text/plain": [
       "1"
      ]
     },
     "execution_count": 15,
     "metadata": {},
     "output_type": "execute_result"
    }
   ],
   "source": [
    "redis_conn.delete('stu:01')\n",
    "redis_conn.delete('stu:02')\n",
    "redis_conn.delete('stu:03')"
   ]
  }
 ],
 "metadata": {
  "kernelspec": {
   "display_name": ".venv",
   "language": "python",
   "name": "python3"
  },
  "language_info": {
   "codemirror_mode": {
    "name": "ipython",
    "version": 3
   },
   "file_extension": ".py",
   "mimetype": "text/x-python",
   "name": "python",
   "nbconvert_exporter": "python",
   "pygments_lexer": "ipython3",
   "version": "3.10.8"
  }
 },
 "nbformat": 4,
 "nbformat_minor": 2
}
